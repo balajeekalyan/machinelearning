{
 "cells": [
  {
   "cell_type": "markdown",
   "id": "bc26c607-199e-4287-a2e5-bf1fa33653fd",
   "metadata": {},
   "source": [
    "# Personal Expense Tracker\n",
    "*Easy and efficient way to track your expenses*\\\n",
    "\\\n",
    "**Please choose one the following options to begin**\n",
    "1. Add an expense\n",
    "2. View expenses\n",
    "3. Track Budget\n",
    "4. Save expenses\n",
    "5. Save and Exit"
   ]
  },
  {
   "cell_type": "code",
   "execution_count": 24,
   "id": "4db70fb2-e5bd-434e-a3e6-dfcfb089064e",
   "metadata": {},
   "outputs": [
    {
     "name": "stdin",
     "output_type": "stream",
     "text": [
      "Enter option  4\n"
     ]
    },
    {
     "name": "stdout",
     "output_type": "stream",
     "text": [
      "No new data to save\n",
      "Please choose option 1 to add expenses and try again\n"
     ]
    },
    {
     "name": "stdin",
     "output_type": "stream",
     "text": [
      "Enter option  1\n",
      "Expense Date (yyyy-mm-dd): 2024-11-14\n",
      "Expense Category: Jewelry\n",
      "Expense Amount: 300\n",
      "Expense Description: Pendant\n",
      "Enter option  3\n",
      "Please enter your monthly budget: 1000\n"
     ]
    },
    {
     "name": "stdout",
     "output_type": "stream",
     "text": [
      "You are within your monthly budget\n",
      "Monthly Budget: 1000.0\n",
      "Remaining: 704.13\n",
      "New Data detected, please save to get accurate budget tracking\n"
     ]
    },
    {
     "name": "stdin",
     "output_type": "stream",
     "text": [
      "Enter option  4\n"
     ]
    },
    {
     "name": "stdout",
     "output_type": "stream",
     "text": [
      "Your expense data has been successfully saved\n"
     ]
    },
    {
     "name": "stdin",
     "output_type": "stream",
     "text": [
      "Enter option  3\n",
      "Please enter your monthly budget: 1000\n"
     ]
    },
    {
     "name": "stdout",
     "output_type": "stream",
     "text": [
      "You are within your monthly budget\n",
      "Monthly Budget: 1000.0\n",
      "Remaining: 404.13\n"
     ]
    },
    {
     "name": "stdin",
     "output_type": "stream",
     "text": [
      "Enter option  5\n"
     ]
    },
    {
     "name": "stdout",
     "output_type": "stream",
     "text": [
      "Exit option selected.\n",
      "Program exiting\n",
      "No new data to save\n",
      "Please choose option 1 to add expenses and try again\n"
     ]
    }
   ],
   "source": [
    "import pandas as pd;\n",
    "import re;\n",
    "\n",
    "option = 0;\n",
    "monthly_budget = 0;\n",
    "messages = {\n",
    "    'emptyDictErrorMessage': 'No new data to save\\nPlease choose option 1 to add expenses and try again',\n",
    "    'emptyDictViewExpense': 'No new data\\nPlease choose option 1 to add expenses and try again',\n",
    "    'invalidOption': 'Invalid option\\nPlease start over',\n",
    "    'exitOption': 'Exit option selected.\\nProgram exiting',\n",
    "    'invalidValue': 'Invalid value\\nPlease start over',\n",
    "    'fileNotFound': 'expenses.csv not found',\n",
    "    'exceededBudget': 'You have exceeded your monthly budget',\n",
    "    'withinBudget': 'You are within your monthly budget',\n",
    "    'saveSuccessful': 'Your expense data has been successfully saved',\n",
    "    'newDataDetected': 'New Data detected, please save to get accurate budget tracking'\n",
    "}\n",
    "expense_dict = {\n",
    "    'expense_date': [],\n",
    "    'expense_category': [],\n",
    "    'expense_amount': [],\n",
    "    'expense_desc': []\n",
    "}\n",
    "\n",
    "def clearAndUpdateDict():\n",
    "    global expense_dict\n",
    "    expense_dict.clear()\n",
    "    expense_dict = {\n",
    "        'expense_date': [],\n",
    "        'expense_category': [],\n",
    "        'expense_amount': [],\n",
    "        'expense_desc': []\n",
    "    };\n",
    "    \n",
    "def insertOrAppend(key, value):\n",
    "    if (key == \"expense_date\" and re.match('([\\d]{4}-[\\d]{2}-[\\d]{2})+', value)):\n",
    "        expense_dict[key].append(value);\n",
    "        return True;\n",
    "    elif (key == \"expense_amount\"):\n",
    "        expense_dict[key].append(float(value));\n",
    "        return True;\n",
    "    elif ((key == \"expense_category\" or key == \"expense_desc\") and re.match(\"\\D+\", value)):\n",
    "        expense_dict[key].append(value);\n",
    "        return True;\n",
    "    else:\n",
    "        print(messages['invalidValue']);\n",
    "        return False;\n",
    "    \n",
    "def add_expense():\n",
    "    expense_date = input('Expense Date (yyyy-mm-dd):');\n",
    "    if insertOrAppend(\"expense_date\", expense_date):\n",
    "        expense_category = input('Expense Category:');\n",
    "        if insertOrAppend(\"expense_category\", expense_category):\n",
    "            try:\n",
    "                expense_amount = float(input('Expense Amount:'));\n",
    "                if insertOrAppend(\"expense_amount\", expense_amount):\n",
    "                    expense_desc = input('Expense Description:');\n",
    "                    if insertOrAppend(\"expense_desc\", expense_desc):\n",
    "                        expense_dict.update();\n",
    "            except Exception as e:\n",
    "                print(messages['invalidValue']);\n",
    "                    \n",
    "def track_expense():\n",
    "    monthly_budget = float(input('Please enter your monthly budget:'));\n",
    "    try:\n",
    "        monthly_budget = float(monthly_budget);\n",
    "    except Exception as e:\n",
    "        print(messages['invalidValue']);\n",
    "    df = None;\n",
    "    try:\n",
    "        df = pd.read_csv('expenses.csv')\n",
    "        remaining_amount = monthly_budget\n",
    "        for index, row in df.iterrows():\n",
    "            remaining_amount = remaining_amount - row['expense_amount'];\n",
    "        if remaining_amount < 0:\n",
    "            print(messages['exceededBudget']);\n",
    "        else:\n",
    "            print(messages['withinBudget']);\n",
    "        print(f'Monthly Budget: {round(monthly_budget, 2)}');\n",
    "        print(f'Remaining: {round(remaining_amount, 2)}');\n",
    "        if (expense_dict and expense_dict['expense_date']):\n",
    "            print(messages['newDataDetected']);\n",
    "    except FileNotFoundError as e:\n",
    "        print(messages['fileNotFound'])\n",
    "        \n",
    "def combine_dataframe(df):\n",
    "    df1 = pd.DataFrame.from_dict(expense_dict)\n",
    "    concatenated_df = pd.concat([df, df1])\n",
    "    return concatenated_df;\n",
    "    \n",
    "def view_expense():\n",
    "    df = None;\n",
    "    try:\n",
    "        df = pd.read_csv('expenses.csv')\n",
    "        if (expense_dict and expense_dict['expense_date']):\n",
    "            print(combine_dataframe(df));\n",
    "        else:\n",
    "            print(df)\n",
    "    except FileNotFoundError as e:\n",
    "        print(messages['fileNotFound'])\n",
    "        if (expense_dict and expense_dict['expense_date']):\n",
    "            df = pd.DataFrame.from_dict(expense_dict)\n",
    "            print(df);\n",
    "        else:\n",
    "            print(messages['emptyDictViewExpense']);    \n",
    "        \n",
    "def save_expense():\n",
    "    df = None;\n",
    "    try:\n",
    "        df = pd.read_csv('expenses.csv')\n",
    "        if (expense_dict and expense_dict['expense_date']):\n",
    "            combine_dataframe(df).to_csv('expenses.csv', index=False)\n",
    "            print(messages['saveSuccessful']);\n",
    "        else:\n",
    "            print(messages['emptyDictErrorMessage']);\n",
    "    except FileNotFoundError as e:\n",
    "        if (expense_dict and expense_dict['expense_date']):\n",
    "            df = pd.DataFrame.from_dict(expense_dict)\n",
    "            df.to_csv('expenses.csv', index=False)\n",
    "            print(messages['saveSuccessful']);\n",
    "        else:\n",
    "            print(messages['emptyDictErrorMessage']);\n",
    "    clearAndUpdateDict();\n",
    "\n",
    "def main_menu():\n",
    "    while True:\n",
    "        try:\n",
    "            option = int(input('Enter option '));\n",
    "            if (option == 1):\n",
    "                add_expense(); \n",
    "            elif (option == 2):\n",
    "                view_expense();\n",
    "            elif (option == 3):\n",
    "                track_expense();\n",
    "            elif (option == 4):\n",
    "                save_expense();\n",
    "            elif (option == 5):\n",
    "                print(messages['exitOption']);\n",
    "                save_expense();\n",
    "                break;\n",
    "            else:\n",
    "                print(messages['invalidOption']);\n",
    "        except Exception as e:\n",
    "            print(messages['invalidValue']);\n",
    "            continue;\n",
    "                \n",
    "main_menu()"
   ]
  },
  {
   "cell_type": "code",
   "execution_count": null,
   "id": "c9ba7e73-0444-47dd-97f6-d0832f171cf6",
   "metadata": {},
   "outputs": [],
   "source": []
  },
  {
   "cell_type": "code",
   "execution_count": null,
   "id": "ba0338fe-b191-478c-841b-79a2a47c52da",
   "metadata": {},
   "outputs": [],
   "source": []
  }
 ],
 "metadata": {
  "kernelspec": {
   "display_name": "Python 3 [3.10]",
   "language": "python",
   "name": "python3"
  },
  "language_info": {
   "codemirror_mode": {
    "name": "ipython",
    "version": 3
   },
   "file_extension": ".py",
   "mimetype": "text/x-python",
   "name": "python",
   "nbconvert_exporter": "python",
   "pygments_lexer": "ipython3",
   "version": "3.10.2"
  }
 },
 "nbformat": 4,
 "nbformat_minor": 5
}
